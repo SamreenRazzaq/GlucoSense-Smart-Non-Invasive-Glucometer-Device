{
  "cells": [
    {
      "cell_type": "code",
      "execution_count": 1,
      "metadata": {
        "id": "oPodOLHaqvHt"
      },
      "outputs": [],
      "source": [
        "import pandas as pd\n",
        "import numpy as np\n",
        "import matplotlib.pyplot as plt\n",
        "import seaborn as sb"
      ]
    },
    {
      "cell_type": "code",
      "execution_count": 2,
      "metadata": {
        "id": "cWPB503K0v4x",
        "colab": {
          "base_uri": "https://localhost:8080/",
          "height": 73
        },
        "outputId": "d864579d-2413-446d-dbbb-c5050f0f55c9"
      },
      "outputs": [
        {
          "output_type": "display_data",
          "data": {
            "text/plain": [
              "<IPython.core.display.HTML object>"
            ],
            "text/html": [
              "\n",
              "     <input type=\"file\" id=\"files-9e9326d1-a1c9-45fd-8e75-ea84d19cf529\" name=\"files[]\" multiple disabled\n",
              "        style=\"border:none\" />\n",
              "     <output id=\"result-9e9326d1-a1c9-45fd-8e75-ea84d19cf529\">\n",
              "      Upload widget is only available when the cell has been executed in the\n",
              "      current browser session. Please rerun this cell to enable.\n",
              "      </output>\n",
              "      <script>// Copyright 2017 Google LLC\n",
              "//\n",
              "// Licensed under the Apache License, Version 2.0 (the \"License\");\n",
              "// you may not use this file except in compliance with the License.\n",
              "// You may obtain a copy of the License at\n",
              "//\n",
              "//      http://www.apache.org/licenses/LICENSE-2.0\n",
              "//\n",
              "// Unless required by applicable law or agreed to in writing, software\n",
              "// distributed under the License is distributed on an \"AS IS\" BASIS,\n",
              "// WITHOUT WARRANTIES OR CONDITIONS OF ANY KIND, either express or implied.\n",
              "// See the License for the specific language governing permissions and\n",
              "// limitations under the License.\n",
              "\n",
              "/**\n",
              " * @fileoverview Helpers for google.colab Python module.\n",
              " */\n",
              "(function(scope) {\n",
              "function span(text, styleAttributes = {}) {\n",
              "  const element = document.createElement('span');\n",
              "  element.textContent = text;\n",
              "  for (const key of Object.keys(styleAttributes)) {\n",
              "    element.style[key] = styleAttributes[key];\n",
              "  }\n",
              "  return element;\n",
              "}\n",
              "\n",
              "// Max number of bytes which will be uploaded at a time.\n",
              "const MAX_PAYLOAD_SIZE = 100 * 1024;\n",
              "\n",
              "function _uploadFiles(inputId, outputId) {\n",
              "  const steps = uploadFilesStep(inputId, outputId);\n",
              "  const outputElement = document.getElementById(outputId);\n",
              "  // Cache steps on the outputElement to make it available for the next call\n",
              "  // to uploadFilesContinue from Python.\n",
              "  outputElement.steps = steps;\n",
              "\n",
              "  return _uploadFilesContinue(outputId);\n",
              "}\n",
              "\n",
              "// This is roughly an async generator (not supported in the browser yet),\n",
              "// where there are multiple asynchronous steps and the Python side is going\n",
              "// to poll for completion of each step.\n",
              "// This uses a Promise to block the python side on completion of each step,\n",
              "// then passes the result of the previous step as the input to the next step.\n",
              "function _uploadFilesContinue(outputId) {\n",
              "  const outputElement = document.getElementById(outputId);\n",
              "  const steps = outputElement.steps;\n",
              "\n",
              "  const next = steps.next(outputElement.lastPromiseValue);\n",
              "  return Promise.resolve(next.value.promise).then((value) => {\n",
              "    // Cache the last promise value to make it available to the next\n",
              "    // step of the generator.\n",
              "    outputElement.lastPromiseValue = value;\n",
              "    return next.value.response;\n",
              "  });\n",
              "}\n",
              "\n",
              "/**\n",
              " * Generator function which is called between each async step of the upload\n",
              " * process.\n",
              " * @param {string} inputId Element ID of the input file picker element.\n",
              " * @param {string} outputId Element ID of the output display.\n",
              " * @return {!Iterable<!Object>} Iterable of next steps.\n",
              " */\n",
              "function* uploadFilesStep(inputId, outputId) {\n",
              "  const inputElement = document.getElementById(inputId);\n",
              "  inputElement.disabled = false;\n",
              "\n",
              "  const outputElement = document.getElementById(outputId);\n",
              "  outputElement.innerHTML = '';\n",
              "\n",
              "  const pickedPromise = new Promise((resolve) => {\n",
              "    inputElement.addEventListener('change', (e) => {\n",
              "      resolve(e.target.files);\n",
              "    });\n",
              "  });\n",
              "\n",
              "  const cancel = document.createElement('button');\n",
              "  inputElement.parentElement.appendChild(cancel);\n",
              "  cancel.textContent = 'Cancel upload';\n",
              "  const cancelPromise = new Promise((resolve) => {\n",
              "    cancel.onclick = () => {\n",
              "      resolve(null);\n",
              "    };\n",
              "  });\n",
              "\n",
              "  // Wait for the user to pick the files.\n",
              "  const files = yield {\n",
              "    promise: Promise.race([pickedPromise, cancelPromise]),\n",
              "    response: {\n",
              "      action: 'starting',\n",
              "    }\n",
              "  };\n",
              "\n",
              "  cancel.remove();\n",
              "\n",
              "  // Disable the input element since further picks are not allowed.\n",
              "  inputElement.disabled = true;\n",
              "\n",
              "  if (!files) {\n",
              "    return {\n",
              "      response: {\n",
              "        action: 'complete',\n",
              "      }\n",
              "    };\n",
              "  }\n",
              "\n",
              "  for (const file of files) {\n",
              "    const li = document.createElement('li');\n",
              "    li.append(span(file.name, {fontWeight: 'bold'}));\n",
              "    li.append(span(\n",
              "        `(${file.type || 'n/a'}) - ${file.size} bytes, ` +\n",
              "        `last modified: ${\n",
              "            file.lastModifiedDate ? file.lastModifiedDate.toLocaleDateString() :\n",
              "                                    'n/a'} - `));\n",
              "    const percent = span('0% done');\n",
              "    li.appendChild(percent);\n",
              "\n",
              "    outputElement.appendChild(li);\n",
              "\n",
              "    const fileDataPromise = new Promise((resolve) => {\n",
              "      const reader = new FileReader();\n",
              "      reader.onload = (e) => {\n",
              "        resolve(e.target.result);\n",
              "      };\n",
              "      reader.readAsArrayBuffer(file);\n",
              "    });\n",
              "    // Wait for the data to be ready.\n",
              "    let fileData = yield {\n",
              "      promise: fileDataPromise,\n",
              "      response: {\n",
              "        action: 'continue',\n",
              "      }\n",
              "    };\n",
              "\n",
              "    // Use a chunked sending to avoid message size limits. See b/62115660.\n",
              "    let position = 0;\n",
              "    do {\n",
              "      const length = Math.min(fileData.byteLength - position, MAX_PAYLOAD_SIZE);\n",
              "      const chunk = new Uint8Array(fileData, position, length);\n",
              "      position += length;\n",
              "\n",
              "      const base64 = btoa(String.fromCharCode.apply(null, chunk));\n",
              "      yield {\n",
              "        response: {\n",
              "          action: 'append',\n",
              "          file: file.name,\n",
              "          data: base64,\n",
              "        },\n",
              "      };\n",
              "\n",
              "      let percentDone = fileData.byteLength === 0 ?\n",
              "          100 :\n",
              "          Math.round((position / fileData.byteLength) * 100);\n",
              "      percent.textContent = `${percentDone}% done`;\n",
              "\n",
              "    } while (position < fileData.byteLength);\n",
              "  }\n",
              "\n",
              "  // All done.\n",
              "  yield {\n",
              "    response: {\n",
              "      action: 'complete',\n",
              "    }\n",
              "  };\n",
              "}\n",
              "\n",
              "scope.google = scope.google || {};\n",
              "scope.google.colab = scope.google.colab || {};\n",
              "scope.google.colab._files = {\n",
              "  _uploadFiles,\n",
              "  _uploadFilesContinue,\n",
              "};\n",
              "})(self);\n",
              "</script> "
            ]
          },
          "metadata": {}
        },
        {
          "output_type": "stream",
          "name": "stdout",
          "text": [
            "Saving FYP_Data_updated-151.csv to FYP_Data_updated-151.csv\n"
          ]
        }
      ],
      "source": [
        "\n",
        "from google.colab import files\n",
        "uploaded = files.upload()"
      ]
    },
    {
      "cell_type": "code",
      "execution_count": 3,
      "metadata": {
        "id": "rP3XHbbh0yJi"
      },
      "outputs": [],
      "source": [
        "# Load and explore dataset\n",
        "dataset = pd.read_csv('FYP_Data_updated-151.csv')  # Make sure file has 151 entries"
      ]
    },
    {
      "cell_type": "code",
      "execution_count": 4,
      "metadata": {
        "id": "jUhMpwnC1f-l",
        "colab": {
          "base_uri": "https://localhost:8080/"
        },
        "outputId": "045c6221-7e01-49ed-d1cc-0ed31d32f97d"
      },
      "outputs": [
        {
          "output_type": "stream",
          "name": "stdout",
          "text": [
            "     No.             Name Gender  Age  Weight History  Meal/Fast Dia/Non  \\\n",
            "0      1          Samreen      F   21      56      No        2.0     Non   \n",
            "1      2            Urwah      F   21      58     Yes        2.0     Non   \n",
            "2      3            Anwar      M   22      66      No        2.0     Non   \n",
            "3      4           Junaid      M   21      72     Yes        2.0     Non   \n",
            "4      5             Anam      F   21      43      No        1.0     Non   \n",
            "..   ...              ...    ...  ...     ...     ...        ...     ...   \n",
            "148  149             Zain      M   36      77     Yes        0.0     Non   \n",
            "149  150             Sami      M   37      78      No        2.0     Non   \n",
            "150  151             Asif      M   38      79     Yes        1.0     Non   \n",
            "151  152  Ghulam Mohiudin      M   52      62     Yes        2.5     Dia   \n",
            "152  153            Aiman      F   22      47     Yes        0.5     Non   \n",
            "\n",
            "     Thickness (cm)  Invasive  Non-Invasive  \n",
            "0               4.8       124           166  \n",
            "1               4.8       126           168  \n",
            "2               4.8       107           131  \n",
            "3               5.5       114            94  \n",
            "4               4.6       124           174  \n",
            "..              ...       ...           ...  \n",
            "148             5.5       102            94  \n",
            "149             5.6        96            88  \n",
            "150             5.3       103            95  \n",
            "151             5.2       188            98  \n",
            "152             4.3       133           200  \n",
            "\n",
            "[153 rows x 11 columns]\n"
          ]
        }
      ],
      "source": [
        "print(dataset)"
      ]
    },
    {
      "cell_type": "code",
      "execution_count": 5,
      "metadata": {
        "id": "jmMPLRll01jq"
      },
      "outputs": [],
      "source": [
        "# Drop unnecessary columns\n",
        "dataset.drop(['No.', 'Name'], axis=1, inplace=True)"
      ]
    },
    {
      "cell_type": "code",
      "execution_count": 6,
      "metadata": {
        "id": "lnSGMNt-04ti",
        "colab": {
          "base_uri": "https://localhost:8080/"
        },
        "outputId": "a050651e-04e9-4d49-d618-184da012d30a"
      },
      "outputs": [
        {
          "output_type": "stream",
          "name": "stderr",
          "text": [
            "<ipython-input-6-a4ae31dd6e62>:2: FutureWarning: A value is trying to be set on a copy of a DataFrame or Series through chained assignment using an inplace method.\n",
            "The behavior will change in pandas 3.0. This inplace method will never work because the intermediate object on which we are setting values always behaves as a copy.\n",
            "\n",
            "For example, when doing 'df[col].method(value, inplace=True)', try using 'df.method({col: value}, inplace=True)' or df[col] = df[col].method(value) instead, to perform the operation inplace on the original object.\n",
            "\n",
            "\n",
            "  dataset['Gender'].fillna('M', inplace=True)\n",
            "<ipython-input-6-a4ae31dd6e62>:3: FutureWarning: A value is trying to be set on a copy of a DataFrame or Series through chained assignment using an inplace method.\n",
            "The behavior will change in pandas 3.0. This inplace method will never work because the intermediate object on which we are setting values always behaves as a copy.\n",
            "\n",
            "For example, when doing 'df[col].method(value, inplace=True)', try using 'df.method({col: value}, inplace=True)' or df[col] = df[col].method(value) instead, to perform the operation inplace on the original object.\n",
            "\n",
            "\n",
            "  dataset['Meal/Fast'].fillna('Two hours after lunch', inplace=True)\n"
          ]
        }
      ],
      "source": [
        "# Fill missing categorical data\n",
        "dataset['Gender'].fillna('M', inplace=True)\n",
        "dataset['Meal/Fast'].fillna('Two hours after lunch', inplace=True)"
      ]
    },
    {
      "cell_type": "code",
      "execution_count": 7,
      "metadata": {
        "id": "ZG0ov7wG07U7",
        "colab": {
          "base_uri": "https://localhost:8080/"
        },
        "outputId": "bab79000-a4c7-431e-d485-3925b5e3a4a7"
      },
      "outputs": [
        {
          "output_type": "stream",
          "name": "stderr",
          "text": [
            "<ipython-input-7-e2faff9b6dae>:4: FutureWarning: A value is trying to be set on a copy of a DataFrame or Series through chained assignment using an inplace method.\n",
            "The behavior will change in pandas 3.0. This inplace method will never work because the intermediate object on which we are setting values always behaves as a copy.\n",
            "\n",
            "For example, when doing 'df[col].method(value, inplace=True)', try using 'df.method({col: value}, inplace=True)' or df[col] = df[col].method(value) instead, to perform the operation inplace on the original object.\n",
            "\n",
            "\n",
            "  dataset['Invasive'].fillna(dataset['Invasive'].median(), inplace=True)\n",
            "<ipython-input-7-e2faff9b6dae>:5: FutureWarning: A value is trying to be set on a copy of a DataFrame or Series through chained assignment using an inplace method.\n",
            "The behavior will change in pandas 3.0. This inplace method will never work because the intermediate object on which we are setting values always behaves as a copy.\n",
            "\n",
            "For example, when doing 'df[col].method(value, inplace=True)', try using 'df.method({col: value}, inplace=True)' or df[col] = df[col].method(value) instead, to perform the operation inplace on the original object.\n",
            "\n",
            "\n",
            "  dataset['Non-Invasive'].fillna(dataset['Non-Invasive'].median(), inplace=True)\n"
          ]
        }
      ],
      "source": [
        "# Fill missing numeric data with median\n",
        "dataset['Invasive'] = pd.to_numeric(dataset['Invasive'], errors='coerce')\n",
        "dataset['Non-Invasive'] = pd.to_numeric(dataset['Non-Invasive'], errors='coerce')\n",
        "dataset['Invasive'].fillna(dataset['Invasive'].median(), inplace=True)\n",
        "dataset['Non-Invasive'].fillna(dataset['Non-Invasive'].median(), inplace=True)"
      ]
    },
    {
      "cell_type": "code",
      "execution_count": 8,
      "metadata": {
        "id": "IA0fAZmY0-iF",
        "colab": {
          "base_uri": "https://localhost:8080/"
        },
        "outputId": "c9f50a8e-f8c8-41b2-cec0-69d198258025"
      },
      "outputs": [
        {
          "output_type": "stream",
          "name": "stderr",
          "text": [
            "<ipython-input-8-bb206e65c97f>:6: FutureWarning: A value is trying to be set on a copy of a DataFrame or Series through chained assignment using an inplace method.\n",
            "The behavior will change in pandas 3.0. This inplace method will never work because the intermediate object on which we are setting values always behaves as a copy.\n",
            "\n",
            "For example, when doing 'df[col].method(value, inplace=True)', try using 'df.method({col: value}, inplace=True)' or df[col] = df[col].method(value) instead, to perform the operation inplace on the original object.\n",
            "\n",
            "\n",
            "  dataset['Meal/Fast'].fillna(1.0, inplace=True)  # defaulting to \"Two hours after lunch\" equivalent\n"
          ]
        }
      ],
      "source": [
        "# Encode categorical variables\n",
        "dataset['Gender'] = dataset['Gender'].map({'M': 1, 'F': 2})\n",
        "dataset['History'] = dataset['History'].map({'Yes': 1, 'No': 0})\n",
        "dataset['Dia/Non'] = dataset['Dia/Non'].map({'Dia': 1, 'Non': 0})\n",
        "dataset['Meal/Fast'] = pd.to_numeric(dataset['Meal/Fast'], errors='coerce')\n",
        "dataset['Meal/Fast'].fillna(1.0, inplace=True)  # defaulting to \"Two hours after lunch\" equivalent"
      ]
    },
    {
      "cell_type": "code",
      "source": [
        "dataset.drop_duplicates(inplace=True)"
      ],
      "metadata": {
        "id": "D04P5lDTD89X"
      },
      "execution_count": 9,
      "outputs": []
    },
    {
      "cell_type": "code",
      "execution_count": 10,
      "metadata": {
        "id": "ZWkwyjzP1BJz"
      },
      "outputs": [],
      "source": [
        "# Drop any remaining NaNs just in case\n",
        "dataset.dropna(inplace=True)"
      ]
    },
    {
      "cell_type": "code",
      "execution_count": 11,
      "metadata": {
        "id": "7IKz0ate1jGU",
        "colab": {
          "base_uri": "https://localhost:8080/"
        },
        "outputId": "8d09f33a-339d-48ec-8dfa-afed3931a578"
      },
      "outputs": [
        {
          "output_type": "stream",
          "name": "stdout",
          "text": [
            "     Gender  Age  Weight  History  Meal/Fast  Dia/Non  Thickness (cm)  \\\n",
            "0         2   21      56        0        2.0      0.0             4.8   \n",
            "1         2   21      58        1        2.0      0.0             4.8   \n",
            "2         1   22      66        0        2.0      0.0             4.8   \n",
            "3         1   21      72        1        2.0      0.0             5.5   \n",
            "4         2   21      43        0        1.0      0.0             4.6   \n",
            "..      ...  ...     ...      ...        ...      ...             ...   \n",
            "148       1   36      77        1        0.0      0.0             5.5   \n",
            "149       1   37      78        0        2.0      0.0             5.6   \n",
            "150       1   38      79        1        1.0      0.0             5.3   \n",
            "151       1   52      62        1        2.5      1.0             5.2   \n",
            "152       2   22      47        1        0.5      0.0             4.3   \n",
            "\n",
            "     Invasive  Non-Invasive  \n",
            "0         124           166  \n",
            "1         126           168  \n",
            "2         107           131  \n",
            "3         114            94  \n",
            "4         124           174  \n",
            "..        ...           ...  \n",
            "148       102            94  \n",
            "149        96            88  \n",
            "150       103            95  \n",
            "151       188            98  \n",
            "152       133           200  \n",
            "\n",
            "[118 rows x 9 columns]\n"
          ]
        }
      ],
      "source": [
        "print(dataset)"
      ]
    },
    {
      "cell_type": "code",
      "execution_count": 12,
      "metadata": {
        "id": "jXEuvVtS1Fv3",
        "colab": {
          "base_uri": "https://localhost:8080/"
        },
        "outputId": "686d4eaa-eb9e-4678-82dc-ad9fddc0b3cc"
      },
      "outputs": [
        {
          "output_type": "stream",
          "name": "stdout",
          "text": [
            "✅ Cleaned dataset (First 5 entries):\n",
            "   Gender  Age  Weight  History  Meal/Fast  Dia/Non  Thickness (cm)  Invasive  \\\n",
            "0       2   21      56        0        2.0      0.0             4.8       124   \n",
            "1       2   21      58        1        2.0      0.0             4.8       126   \n",
            "2       1   22      66        0        2.0      0.0             4.8       107   \n",
            "3       1   21      72        1        2.0      0.0             5.5       114   \n",
            "4       2   21      43        0        1.0      0.0             4.6       124   \n",
            "\n",
            "   Non-Invasive  \n",
            "0           166  \n",
            "1           168  \n",
            "2           131  \n",
            "3            94  \n",
            "4           174  \n",
            "\n",
            "📊 Data Types:\n",
            " Gender              int64\n",
            "Age                 int64\n",
            "Weight              int64\n",
            "History             int64\n",
            "Meal/Fast         float64\n",
            "Dia/Non           float64\n",
            "Thickness (cm)    float64\n",
            "Invasive            int64\n",
            "Non-Invasive        int64\n",
            "dtype: object\n"
          ]
        }
      ],
      "source": [
        "# Print to verify\n",
        "print(\"✅ Cleaned dataset (First 5 entries):\")\n",
        "print(dataset.head())\n",
        "print(\"\\n📊 Data Types:\\n\", dataset.dtypes)"
      ]
    },
    {
      "cell_type": "code",
      "execution_count": 13,
      "metadata": {
        "id": "abCaA-DQ1IBM",
        "colab": {
          "base_uri": "https://localhost:8080/",
          "height": 692
        },
        "outputId": "c9302bb7-5d61-4ce4-b8cc-a42d4385c821"
      },
      "outputs": [
        {
          "output_type": "stream",
          "name": "stderr",
          "text": [
            "/usr/local/lib/python3.11/dist-packages/IPython/core/pylabtools.py:151: UserWarning: Glyph 128269 (\\N{LEFT-POINTING MAGNIFYING GLASS}) missing from font(s) DejaVu Sans.\n",
            "  fig.canvas.print_figure(bytes_io, **kw)\n"
          ]
        },
        {
          "output_type": "display_data",
          "data": {
            "text/plain": [
              "<Figure size 1000x600 with 2 Axes>"
            ],
            "image/png": "[encoded data removed]"
          },
          "metadata": {}
        }
      ],
      "source": [
        "# Correlation heatmap\n",
        "plt.figure(figsize=(10, 6))\n",
        "sb.heatmap(data=dataset.corr(), cmap=\"YlGnBu\", annot=True)\n",
        "plt.title(\"🔍 Feature Correlation Heatmap\")\n",
        "plt.show()"
      ]
    },
    {
      "cell_type": "code",
      "execution_count": 14,
      "metadata": {
        "id": "w3Cik61a1Keq"
      },
      "outputs": [],
      "source": [
        "# Split features and label\n",
        "Y = dataset['Invasive']\n",
        "X = dataset.drop(['Invasive'], axis=1)"
      ]
    },
    {
      "cell_type": "code",
      "execution_count": 15,
      "metadata": {
        "id": "ADFKhMLZ1Ncx"
      },
      "outputs": [],
      "source": [
        "# Normalize data\n",
        "from sklearn.preprocessing import StandardScaler\n",
        "scaler = StandardScaler()\n",
        "X_scaled = scaler.fit_transform(X)"
      ]
    },
    {
      "cell_type": "code",
      "execution_count": 16,
      "metadata": {
        "id": "wnzV50D71QI4"
      },
      "outputs": [],
      "source": [
        "# Train-test split\n",
        "from sklearn.model_selection import train_test_split\n",
        "X_train, X_test, y_train, y_test = train_test_split(X_scaled, Y, test_size=0.2, random_state=42)"
      ]
    },
    {
      "cell_type": "code",
      "execution_count": 17,
      "metadata": {
        "id": "YIfG5rDo1SqI",
        "colab": {
          "base_uri": "https://localhost:8080/"
        },
        "outputId": "045a1c1a-cdfe-4803-e614-3d670e1554f4"
      },
      "outputs": [
        {
          "output_type": "stream",
          "name": "stderr",
          "text": [
            "/usr/local/lib/python3.11/dist-packages/keras/src/layers/core/dense.py:87: UserWarning: Do not pass an `input_shape`/`input_dim` argument to a layer. When using Sequential models, prefer using an `Input(shape)` object as the first layer in the model instead.\n",
            "  super().__init__(activity_regularizer=activity_regularizer, **kwargs)\n"
          ]
        }
      ],
      "source": [
        "# Build Neural Network model\n",
        "from tensorflow.keras.models import Sequential\n",
        "from tensorflow.keras.layers import Dense\n",
        "\n",
        "model = Sequential()\n",
        "model.add(Dense(64, input_dim=X_train.shape[1], activation='relu'))\n",
        "model.add(Dense(32, activation='relu'))\n",
        "model.add(Dense(1))  # Output layer for regression\n",
        "\n",
        "model.compile(optimizer='adam', loss='mse', metrics=['mae'])"
      ]
    },
    {
      "cell_type": "code",
      "execution_count": 18,
      "metadata": {
        "id": "13H5BLAe1WTE",
        "colab": {
          "base_uri": "https://localhost:8080/"
        },
        "outputId": "6fe457c0-c03b-464a-b1a9-c12889d38f8e"
      },
      "outputs": [
        {
          "output_type": "stream",
          "name": "stdout",
          "text": [
            "Epoch 1/100\n",
            "\u001b[1m9/9\u001b[0m \u001b[32m━━━━━━━━━━━━━━━━━━━━\u001b[0m\u001b[37m\u001b[0m \u001b[1m2s\u001b[0m 35ms/step - loss: 55295.8555 - mae: 215.0252 - val_loss: 71352.0000 - val_mae: 232.2398\n",
            "Epoch 2/100\n",
            "\u001b[1m9/9\u001b[0m \u001b[32m━━━━━━━━━━━━━━━━━━━━\u001b[0m\u001b[37m\u001b[0m \u001b[1m0s\u001b[0m 10ms/step - loss: 52730.3086 - mae: 208.4046 - val_loss: 71117.8906 - val_mae: 231.7633\n",
            "Epoch 3/100\n",
            "\u001b[1m9/9\u001b[0m \u001b[32m━━━━━━━━━━━━━━━━━━━━\u001b[0m\u001b[37m\u001b[0m \u001b[1m0s\u001b[0m 10ms/step - loss: 52064.8906 - mae: 206.0984 - val_loss: 70846.0391 - val_mae: 231.2186\n",
            "Epoch 4/100\n",
            "\u001b[1m9/9\u001b[0m \u001b[32m━━━━━━━━━━━━━━━━━━━━\u001b[0m\u001b[37m\u001b[0m \u001b[1m0s\u001b[0m 10ms/step - loss: 54298.6328 - mae: 211.8115 - val_loss: 70523.1484 - val_mae: 230.5743\n",
            "Epoch 5/100\n",
            "\u001b[1m9/9\u001b[0m \u001b[32m━━━━━━━━━━━━━━━━━━━━\u001b[0m\u001b[37m\u001b[0m \u001b[1m0s\u001b[0m 9ms/step - loss: 51841.0273 - mae: 211.0700 - val_loss: 70128.1406 - val_mae: 229.7900\n",
            "Epoch 6/100\n",
            "\u001b[1m9/9\u001b[0m \u001b[32m━━━━━━━━━━━━━━━━━━━━\u001b[0m\u001b[37m\u001b[0m \u001b[1m0s\u001b[0m 10ms/step - loss: 44067.5039 - mae: 190.7791 - val_loss: 69633.1875 - val_mae: 228.8057\n",
            "Epoch 7/100\n",
            "\u001b[1m9/9\u001b[0m \u001b[32m━━━━━━━━━━━━━━━━━━━━\u001b[0m\u001b[37m\u001b[0m \u001b[1m0s\u001b[0m 10ms/step - loss: 52620.9453 - mae: 212.6201 - val_loss: 68988.4141 - val_mae: 227.5574\n",
            "Epoch 8/100\n",
            "\u001b[1m9/9\u001b[0m \u001b[32m━━━━━━━━━━━━━━━━━━━━\u001b[0m\u001b[37m\u001b[0m \u001b[1m0s\u001b[0m 10ms/step - loss: 47490.8594 - mae: 200.5054 - val_loss: 68220.1641 - val_mae: 226.0428\n",
            "Epoch 9/100\n",
            "\u001b[1m9/9\u001b[0m \u001b[32m━━━━━━━━━━━━━━━━━━━━\u001b[0m\u001b[37m\u001b[0m \u001b[1m0s\u001b[0m 10ms/step - loss: 46124.4492 - mae: 195.6424 - val_loss: 67250.3203 - val_mae: 224.1570\n",
            "Epoch 10/100\n",
            "\u001b[1m9/9\u001b[0m \u001b[32m━━━━━━━━━━━━━━━━━━━━\u001b[0m\u001b[37m\u001b[0m \u001b[1m0s\u001b[0m 9ms/step - loss: 46496.4141 - mae: 195.6283 - val_loss: 66061.1016 - val_mae: 221.8547\n",
            "Epoch 11/100\n",
            "\u001b[1m9/9\u001b[0m \u001b[32m━━━━━━━━━━━━━━━━━━━━\u001b[0m\u001b[37m\u001b[0m \u001b[1m0s\u001b[0m 10ms/step - loss: 43886.1680 - mae: 191.3718 - val_loss: 64634.8828 - val_mae: 219.0877\n",
            "Epoch 12/100\n",
            "\u001b[1m9/9\u001b[0m \u001b[32m━━━━━━━━━━━━━━━━━━━━\u001b[0m\u001b[37m\u001b[0m \u001b[1m0s\u001b[0m 10ms/step - loss: 56490.2891 - mae: 217.1262 - val_loss: 62902.5234 - val_mae: 215.7213\n",
            "Epoch 13/100\n",
            "\u001b[1m9/9\u001b[0m \u001b[32m━━━━━━━━━━━━━━━━━━━━\u001b[0m\u001b[37m\u001b[0m \u001b[1m0s\u001b[0m 15ms/step - loss: 39446.9258 - mae: 178.1486 - val_loss: 60983.2383 - val_mae: 211.8840\n",
            "Epoch 14/100\n",
            "\u001b[1m9/9\u001b[0m \u001b[32m━━━━━━━━━━━━━━━━━━━━\u001b[0m\u001b[37m\u001b[0m \u001b[1m0s\u001b[0m 10ms/step - loss: 47824.1172 - mae: 199.3970 - val_loss: 58647.1133 - val_mae: 207.2152\n",
            "Epoch 15/100\n",
            "\u001b[1m9/9\u001b[0m \u001b[32m━━━━━━━━━━━━━━━━━━━━\u001b[0m\u001b[37m\u001b[0m \u001b[1m0s\u001b[0m 10ms/step - loss: 36782.4492 - mae: 172.3792 - val_loss: 56151.8555 - val_mae: 202.1074\n",
            "Epoch 16/100\n",
            "\u001b[1m9/9\u001b[0m \u001b[32m━━━━━━━━━━━━━━━━━━━━\u001b[0m\u001b[37m\u001b[0m \u001b[1m0s\u001b[0m 10ms/step - loss: 41074.7266 - mae: 183.2827 - val_loss: 53190.6172 - val_mae: 195.9688\n",
            "Epoch 17/100\n",
            "\u001b[1m9/9\u001b[0m \u001b[32m━━━━━━━━━━━━━━━━━━━━\u001b[0m\u001b[37m\u001b[0m \u001b[1m0s\u001b[0m 9ms/step - loss: 39465.4609 - mae: 176.2655 - val_loss: 50047.5273 - val_mae: 189.2038\n",
            "Epoch 18/100\n",
            "\u001b[1m9/9\u001b[0m \u001b[32m━━━━━━━━━━━━━━━━━━━━\u001b[0m\u001b[37m\u001b[0m \u001b[1m0s\u001b[0m 10ms/step - loss: 38341.5703 - mae: 173.8045 - val_loss: 46628.0391 - val_mae: 181.5818\n",
            "Epoch 19/100\n",
            "\u001b[1m9/9\u001b[0m \u001b[32m━━━━━━━━━━━━━━━━━━━━\u001b[0m\u001b[37m\u001b[0m \u001b[1m0s\u001b[0m 14ms/step - loss: 31050.2812 - mae: 157.8417 - val_loss: 42968.3672 - val_mae: 173.0661\n",
            "Epoch 20/100\n",
            "\u001b[1m9/9\u001b[0m \u001b[32m━━━━━━━━━━━━━━━━━━━━\u001b[0m\u001b[37m\u001b[0m \u001b[1m0s\u001b[0m 10ms/step - loss: 29160.2148 - mae: 151.5997 - val_loss: 39018.8906 - val_mae: 163.4612\n",
            "Epoch 21/100\n",
            "\u001b[1m9/9\u001b[0m \u001b[32m━━━━━━━━━━━━━━━━━━━━\u001b[0m\u001b[37m\u001b[0m \u001b[1m0s\u001b[0m 9ms/step - loss: 28378.2422 - mae: 150.9608 - val_loss: 35061.3750 - val_mae: 153.2598\n",
            "Epoch 22/100\n",
            "\u001b[1m9/9\u001b[0m \u001b[32m━━━━━━━━━━━━━━━━━━━━\u001b[0m\u001b[37m\u001b[0m \u001b[1m0s\u001b[0m 11ms/step - loss: 23697.7227 - mae: 133.3089 - val_loss: 31201.5898 - val_mae: 142.6075\n",
            "Epoch 23/100\n",
            "\u001b[1m9/9\u001b[0m \u001b[32m━━━━━━━━━━━━━━━━━━━━\u001b[0m\u001b[37m\u001b[0m \u001b[1m0s\u001b[0m 9ms/step - loss: 22031.0312 - mae: 130.6316 - val_loss: 27447.2090 - val_mae: 131.3489\n",
            "Epoch 24/100\n",
            "\u001b[1m9/9\u001b[0m \u001b[32m━━━━━━━━━━━━━━━━━━━━\u001b[0m\u001b[37m\u001b[0m \u001b[1m0s\u001b[0m 10ms/step - loss: 18760.1758 - mae: 119.7287 - val_loss: 23899.7441 - val_mae: 119.7321\n",
            "Epoch 25/100\n",
            "\u001b[1m9/9\u001b[0m \u001b[32m━━━━━━━━━━━━━━━━━━━━\u001b[0m\u001b[37m\u001b[0m \u001b[1m0s\u001b[0m 10ms/step - loss: 14098.8242 - mae: 101.8971 - val_loss: 20616.1426 - val_mae: 107.9892\n",
            "Epoch 26/100\n",
            "\u001b[1m9/9\u001b[0m \u001b[32m━━━━━━━━━━━━━━━━━━━━\u001b[0m\u001b[37m\u001b[0m \u001b[1m0s\u001b[0m 9ms/step - loss: 13673.5967 - mae: 102.2515 - val_loss: 17585.8418 - val_mae: 95.8563\n",
            "Epoch 27/100\n",
            "\u001b[1m9/9\u001b[0m \u001b[32m━━━━━━━━━━━━━━━━━━━━\u001b[0m\u001b[37m\u001b[0m \u001b[1m0s\u001b[0m 10ms/step - loss: 10828.2520 - mae: 83.5970 - val_loss: 15127.8799 - val_mae: 85.9881\n",
            "Epoch 28/100\n",
            "\u001b[1m9/9\u001b[0m \u001b[32m━━━━━━━━━━━━━━━━━━━━\u001b[0m\u001b[37m\u001b[0m \u001b[1m0s\u001b[0m 16ms/step - loss: 9577.6230 - mae: 73.7749 - val_loss: 12936.9590 - val_mae: 76.4487\n",
            "Epoch 29/100\n",
            "\u001b[1m9/9\u001b[0m \u001b[32m━━━━━━━━━━━━━━━━━━━━\u001b[0m\u001b[37m\u001b[0m \u001b[1m0s\u001b[0m 17ms/step - loss: 8424.0664 - mae: 73.7577 - val_loss: 11113.7441 - val_mae: 68.3469\n",
            "Epoch 30/100\n",
            "\u001b[1m9/9\u001b[0m \u001b[32m━━━━━━━━━━━━━━━━━━━━\u001b[0m\u001b[37m\u001b[0m \u001b[1m0s\u001b[0m 18ms/step - loss: 8803.4482 - mae: 67.0757 - val_loss: 9707.8623 - val_mae: 61.6498\n",
            "Epoch 31/100\n",
            "\u001b[1m9/9\u001b[0m \u001b[32m━━━━━━━━━━━━━━━━━━━━\u001b[0m\u001b[37m\u001b[0m \u001b[1m0s\u001b[0m 18ms/step - loss: 4861.2271 - mae: 52.9598 - val_loss: 8571.5156 - val_mae: 55.9921\n",
            "Epoch 32/100\n",
            "\u001b[1m9/9\u001b[0m \u001b[32m━━━━━━━━━━━━━━━━━━━━\u001b[0m\u001b[37m\u001b[0m \u001b[1m0s\u001b[0m 14ms/step - loss: 5063.8916 - mae: 54.3694 - val_loss: 7700.0728 - val_mae: 52.7359\n",
            "Epoch 33/100\n",
            "\u001b[1m9/9\u001b[0m \u001b[32m━━━━━━━━━━━━━━━━━━━━\u001b[0m\u001b[37m\u001b[0m \u001b[1m0s\u001b[0m 17ms/step - loss: 6229.1621 - mae: 55.7280 - val_loss: 7028.9453 - val_mae: 49.9182\n",
            "Epoch 34/100\n",
            "\u001b[1m9/9\u001b[0m \u001b[32m━━━━━━━━━━━━━━━━━━━━\u001b[0m\u001b[37m\u001b[0m \u001b[1m0s\u001b[0m 20ms/step - loss: 3632.1201 - mae: 46.0724 - val_loss: 6482.8071 - val_mae: 47.4663\n",
            "Epoch 35/100\n",
            "\u001b[1m9/9\u001b[0m \u001b[32m━━━━━━━━━━━━━━━━━━━━\u001b[0m\u001b[37m\u001b[0m \u001b[1m0s\u001b[0m 21ms/step - loss: 4005.9155 - mae: 49.4968 - val_loss: 6058.8384 - val_mae: 45.9451\n",
            "Epoch 36/100\n",
            "\u001b[1m9/9\u001b[0m \u001b[32m━━━━━━━━━━━━━━━━━━━━\u001b[0m\u001b[37m\u001b[0m \u001b[1m0s\u001b[0m 20ms/step - loss: 3635.0686 - mae: 45.2142 - val_loss: 5670.4985 - val_mae: 44.6716\n",
            "Epoch 37/100\n",
            "\u001b[1m9/9\u001b[0m \u001b[32m━━━━━━━━━━━━━━━━━━━━\u001b[0m\u001b[37m\u001b[0m \u001b[1m0s\u001b[0m 10ms/step - loss: 3668.6311 - mae: 44.6356 - val_loss: 5341.4526 - val_mae: 43.5519\n",
            "Epoch 38/100\n",
            "\u001b[1m9/9\u001b[0m \u001b[32m━━━━━━━━━━━━━━━━━━━━\u001b[0m\u001b[37m\u001b[0m \u001b[1m0s\u001b[0m 9ms/step - loss: 3748.9551 - mae: 44.7177 - val_loss: 5078.4741 - val_mae: 42.5107\n",
            "Epoch 39/100\n",
            "\u001b[1m9/9\u001b[0m \u001b[32m━━━━━━━━━━━━━━━━━━━━\u001b[0m\u001b[37m\u001b[0m \u001b[1m0s\u001b[0m 10ms/step - loss: 3316.7393 - mae: 43.9148 - val_loss: 4814.3442 - val_mae: 41.3274\n",
            "Epoch 40/100\n",
            "\u001b[1m9/9\u001b[0m \u001b[32m━━━━━━━━━━━━━━━━━━━━\u001b[0m\u001b[37m\u001b[0m \u001b[1m0s\u001b[0m 9ms/step - loss: 2391.6907 - mae: 36.8241 - val_loss: 4607.9985 - val_mae: 40.3972\n",
            "Epoch 41/100\n",
            "\u001b[1m9/9\u001b[0m \u001b[32m━━━━━━━━━━━━━━━━━━━━\u001b[0m\u001b[37m\u001b[0m \u001b[1m0s\u001b[0m 10ms/step - loss: 2171.7256 - mae: 35.7854 - val_loss: 4419.3013 - val_mae: 39.5060\n",
            "Epoch 42/100\n",
            "\u001b[1m9/9\u001b[0m \u001b[32m━━━━━━━━━━━━━━━━━━━━\u001b[0m\u001b[37m\u001b[0m \u001b[1m0s\u001b[0m 10ms/step - loss: 2701.5334 - mae: 36.3599 - val_loss: 4279.0117 - val_mae: 39.0140\n",
            "Epoch 43/100\n",
            "\u001b[1m9/9\u001b[0m \u001b[32m━━━━━━━━━━━━━━━━━━━━\u001b[0m\u001b[37m\u001b[0m \u001b[1m0s\u001b[0m 10ms/step - loss: 2734.0898 - mae: 38.2160 - val_loss: 4120.7842 - val_mae: 38.3194\n",
            "Epoch 44/100\n",
            "\u001b[1m9/9\u001b[0m \u001b[32m━━━━━━━━━━━━━━━━━━━━\u001b[0m\u001b[37m\u001b[0m \u001b[1m0s\u001b[0m 10ms/step - loss: 2116.5674 - mae: 33.7633 - val_loss: 3957.9661 - val_mae: 37.4786\n",
            "Epoch 45/100\n",
            "\u001b[1m9/9\u001b[0m \u001b[32m━━━━━━━━━━━━━━━━━━━━\u001b[0m\u001b[37m\u001b[0m \u001b[1m0s\u001b[0m 10ms/step - loss: 3548.1472 - mae: 38.2583 - val_loss: 3850.0366 - val_mae: 36.9354\n",
            "Epoch 46/100\n",
            "\u001b[1m9/9\u001b[0m \u001b[32m━━━━━━━━━━━━━━━━━━━━\u001b[0m\u001b[37m\u001b[0m \u001b[1m0s\u001b[0m 10ms/step - loss: 1862.6705 - mae: 29.8024 - val_loss: 3714.5332 - val_mae: 36.1502\n",
            "Epoch 47/100\n",
            "\u001b[1m9/9\u001b[0m \u001b[32m━━━━━━━━━━━━━━━━━━━━\u001b[0m\u001b[37m\u001b[0m \u001b[1m0s\u001b[0m 9ms/step - loss: 3393.6167 - mae: 36.4107 - val_loss: 3570.6648 - val_mae: 35.5986\n",
            "Epoch 48/100\n",
            "\u001b[1m9/9\u001b[0m \u001b[32m━━━━━━━━━━━━━━━━━━━━\u001b[0m\u001b[37m\u001b[0m \u001b[1m0s\u001b[0m 9ms/step - loss: 2387.2859 - mae: 32.8332 - val_loss: 3467.2461 - val_mae: 35.0115\n",
            "Epoch 49/100\n",
            "\u001b[1m9/9\u001b[0m \u001b[32m━━━━━━━━━━━━━━━━━━━━\u001b[0m\u001b[37m\u001b[0m \u001b[1m0s\u001b[0m 10ms/step - loss: 2054.8293 - mae: 33.1870 - val_loss: 3392.5503 - val_mae: 34.5676\n",
            "Epoch 50/100\n",
            "\u001b[1m9/9\u001b[0m \u001b[32m━━━━━━━━━━━━━━━━━━━━\u001b[0m\u001b[37m\u001b[0m \u001b[1m0s\u001b[0m 9ms/step - loss: 2845.0354 - mae: 36.4755 - val_loss: 3313.2063 - val_mae: 34.3868\n",
            "Epoch 51/100\n",
            "\u001b[1m9/9\u001b[0m \u001b[32m━━━━━━━━━━━━━━━━━━━━\u001b[0m\u001b[37m\u001b[0m \u001b[1m0s\u001b[0m 9ms/step - loss: 2341.6233 - mae: 33.0490 - val_loss: 3248.6028 - val_mae: 34.1470\n",
            "Epoch 52/100\n",
            "\u001b[1m9/9\u001b[0m \u001b[32m━━━━━━━━━━━━━━━━━━━━\u001b[0m\u001b[37m\u001b[0m \u001b[1m0s\u001b[0m 10ms/step - loss: 1816.2883 - mae: 29.5794 - val_loss: 3190.2666 - val_mae: 34.0984\n",
            "Epoch 53/100\n",
            "\u001b[1m9/9\u001b[0m \u001b[32m━━━━━━━━━━━━━━━━━━━━\u001b[0m\u001b[37m\u001b[0m \u001b[1m0s\u001b[0m 9ms/step - loss: 2312.0620 - mae: 31.8904 - val_loss: 3113.7710 - val_mae: 33.7460\n",
            "Epoch 54/100\n",
            "\u001b[1m9/9\u001b[0m \u001b[32m━━━━━━━━━━━━━━━━━━━━\u001b[0m\u001b[37m\u001b[0m \u001b[1m0s\u001b[0m 10ms/step - loss: 1957.9492 - mae: 29.9840 - val_loss: 3044.3833 - val_mae: 33.4083\n",
            "Epoch 55/100\n",
            "\u001b[1m9/9\u001b[0m \u001b[32m━━━━━━━━━━━━━━━━━━━━\u001b[0m\u001b[37m\u001b[0m \u001b[1m0s\u001b[0m 9ms/step - loss: 2252.9761 - mae: 33.1422 - val_loss: 2993.8833 - val_mae: 33.3188\n",
            "Epoch 56/100\n",
            "\u001b[1m9/9\u001b[0m \u001b[32m━━━━━━━━━━━━━━━━━━━━\u001b[0m\u001b[37m\u001b[0m \u001b[1m0s\u001b[0m 10ms/step - loss: 1635.7885 - mae: 27.1860 - val_loss: 2941.2646 - val_mae: 33.2994\n",
            "Epoch 57/100\n",
            "\u001b[1m9/9\u001b[0m \u001b[32m━━━━━━━━━━━━━━━━━━━━\u001b[0m\u001b[37m\u001b[0m \u001b[1m0s\u001b[0m 10ms/step - loss: 2167.2725 - mae: 30.0139 - val_loss: 2870.8684 - val_mae: 33.2237\n",
            "Epoch 58/100\n",
            "\u001b[1m9/9\u001b[0m \u001b[32m━━━━━━━━━━━━━━━━━━━━\u001b[0m\u001b[37m\u001b[0m \u001b[1m0s\u001b[0m 10ms/step - loss: 1497.7271 - mae: 25.7962 - val_loss: 2842.0137 - val_mae: 33.1289\n",
            "Epoch 59/100\n",
            "\u001b[1m9/9\u001b[0m \u001b[32m━━━━━━━━━━━━━━━━━━━━\u001b[0m\u001b[37m\u001b[0m \u001b[1m0s\u001b[0m 10ms/step - loss: 1813.9966 - mae: 29.8329 - val_loss: 2801.6821 - val_mae: 32.9417\n",
            "Epoch 60/100\n",
            "\u001b[1m9/9\u001b[0m \u001b[32m━━━━━━━━━━━━━━━━━━━━\u001b[0m\u001b[37m\u001b[0m \u001b[1m0s\u001b[0m 9ms/step - loss: 2189.4077 - mae: 30.4093 - val_loss: 2761.5894 - val_mae: 32.9094\n",
            "Epoch 61/100\n",
            "\u001b[1m9/9\u001b[0m \u001b[32m━━━━━━━━━━━━━━━━━━━━\u001b[0m\u001b[37m\u001b[0m \u001b[1m0s\u001b[0m 9ms/step - loss: 1575.0884 - mae: 26.0398 - val_loss: 2736.7766 - val_mae: 32.8282\n",
            "Epoch 62/100\n",
            "\u001b[1m9/9\u001b[0m \u001b[32m━━━━━━━━━━━━━━━━━━━━\u001b[0m\u001b[37m\u001b[0m \u001b[1m0s\u001b[0m 10ms/step - loss: 1775.6400 - mae: 27.8293 - val_loss: 2722.0129 - val_mae: 32.8230\n",
            "Epoch 63/100\n",
            "\u001b[1m9/9\u001b[0m \u001b[32m━━━━━━━━━━━━━━━━━━━━\u001b[0m\u001b[37m\u001b[0m \u001b[1m0s\u001b[0m 10ms/step - loss: 1608.2085 - mae: 26.9422 - val_loss: 2707.6311 - val_mae: 32.9174\n",
            "Epoch 64/100\n",
            "\u001b[1m9/9\u001b[0m \u001b[32m━━━━━━━━━━━━━━━━━━━━\u001b[0m\u001b[37m\u001b[0m \u001b[1m0s\u001b[0m 15ms/step - loss: 1357.5319 - mae: 25.6715 - val_loss: 2683.7488 - val_mae: 33.0226\n",
            "Epoch 65/100\n",
            "\u001b[1m9/9\u001b[0m \u001b[32m━━━━━━━━━━━━━━━━━━━━\u001b[0m\u001b[37m\u001b[0m \u001b[1m0s\u001b[0m 10ms/step - loss: 1849.7841 - mae: 27.3139 - val_loss: 2662.5793 - val_mae: 33.0247\n",
            "Epoch 66/100\n",
            "\u001b[1m9/9\u001b[0m \u001b[32m━━━━━━━━━━━━━━━━━━━━\u001b[0m\u001b[37m\u001b[0m \u001b[1m0s\u001b[0m 10ms/step - loss: 1991.9670 - mae: 29.3537 - val_loss: 2634.5813 - val_mae: 33.0619\n",
            "Epoch 67/100\n",
            "\u001b[1m9/9\u001b[0m \u001b[32m━━━━━━━━━━━━━━━━━━━━\u001b[0m\u001b[37m\u001b[0m \u001b[1m0s\u001b[0m 11ms/step - loss: 2528.8486 - mae: 30.9641 - val_loss: 2600.8032 - val_mae: 32.7877\n",
            "Epoch 68/100\n",
            "\u001b[1m9/9\u001b[0m \u001b[32m━━━━━━━━━━━━━━━━━━━━\u001b[0m\u001b[37m\u001b[0m \u001b[1m0s\u001b[0m 10ms/step - loss: 1516.9896 - mae: 26.4384 - val_loss: 2576.3706 - val_mae: 32.6133\n",
            "Epoch 69/100\n",
            "\u001b[1m9/9\u001b[0m \u001b[32m━━━━━━━━━━━━━━━━━━━━\u001b[0m\u001b[37m\u001b[0m \u001b[1m0s\u001b[0m 10ms/step - loss: 1767.2405 - mae: 29.0346 - val_loss: 2559.7798 - val_mae: 32.5804\n",
            "Epoch 70/100\n",
            "\u001b[1m9/9\u001b[0m \u001b[32m━━━━━━━━━━━━━━━━━━━━\u001b[0m\u001b[37m\u001b[0m \u001b[1m0s\u001b[0m 10ms/step - loss: 1930.8849 - mae: 27.7190 - val_loss: 2530.3611 - val_mae: 32.5363\n",
            "Epoch 71/100\n",
            "\u001b[1m9/9\u001b[0m \u001b[32m━━━━━━━━━━━━━━━━━━━━\u001b[0m\u001b[37m\u001b[0m \u001b[1m0s\u001b[0m 9ms/step - loss: 1285.8436 - mae: 24.4371 - val_loss: 2499.7993 - val_mae: 32.1488\n",
            "Epoch 72/100\n",
            "\u001b[1m9/9\u001b[0m \u001b[32m━━━━━━━━━━━━━━━━━━━━\u001b[0m\u001b[37m\u001b[0m \u001b[1m0s\u001b[0m 10ms/step - loss: 1950.9808 - mae: 29.3383 - val_loss: 2492.1641 - val_mae: 32.0202\n",
            "Epoch 73/100\n",
            "\u001b[1m9/9\u001b[0m \u001b[32m━━━━━━━━━━━━━━━━━━━━\u001b[0m\u001b[37m\u001b[0m \u001b[1m0s\u001b[0m 10ms/step - loss: 1214.8621 - mae: 23.7601 - val_loss: 2473.0486 - val_mae: 31.9002\n",
            "Epoch 74/100\n",
            "\u001b[1m9/9\u001b[0m \u001b[32m━━━━━━━━━━━━━━━━━━━━\u001b[0m\u001b[37m\u001b[0m \u001b[1m0s\u001b[0m 10ms/step - loss: 1936.1163 - mae: 28.2244 - val_loss: 2483.2083 - val_mae: 32.4134\n",
            "Epoch 75/100\n",
            "\u001b[1m9/9\u001b[0m \u001b[32m━━━━━━━━━━━━━━━━━━━━\u001b[0m\u001b[37m\u001b[0m \u001b[1m0s\u001b[0m 12ms/step - loss: 1279.1185 - mae: 23.7068 - val_loss: 2461.0422 - val_mae: 32.2570\n",
            "Epoch 76/100\n",
            "\u001b[1m9/9\u001b[0m \u001b[32m━━━━━━━━━━━━━━━━━━━━\u001b[0m\u001b[37m\u001b[0m \u001b[1m0s\u001b[0m 10ms/step - loss: 1677.5322 - mae: 27.5202 - val_loss: 2449.0649 - val_mae: 32.1681\n",
            "Epoch 77/100\n",
            "\u001b[1m9/9\u001b[0m \u001b[32m━━━━━━━━━━━━━━━━━━━━\u001b[0m\u001b[37m\u001b[0m \u001b[1m0s\u001b[0m 10ms/step - loss: 1727.0983 - mae: 26.0047 - val_loss: 2415.6780 - val_mae: 31.9718\n",
            "Epoch 78/100\n",
            "\u001b[1m9/9\u001b[0m \u001b[32m━━━━━━━━━━━━━━━━━━━━\u001b[0m\u001b[37m\u001b[0m \u001b[1m0s\u001b[0m 10ms/step - loss: 1379.6852 - mae: 23.6306 - val_loss: 2415.6599 - val_mae: 31.8620\n",
            "Epoch 79/100\n",
            "\u001b[1m9/9\u001b[0m \u001b[32m━━━━━━━━━━━━━━━━━━━━\u001b[0m\u001b[37m\u001b[0m \u001b[1m0s\u001b[0m 10ms/step - loss: 1364.7231 - mae: 24.8587 - val_loss: 2371.0503 - val_mae: 31.6147\n",
            "Epoch 80/100\n",
            "\u001b[1m9/9\u001b[0m \u001b[32m━━━━━━━━━━━━━━━━━━━━\u001b[0m\u001b[37m\u001b[0m \u001b[1m0s\u001b[0m 10ms/step - loss: 1046.1995 - mae: 23.1832 - val_loss: 2329.0308 - val_mae: 31.3672\n",
            "Epoch 81/100\n",
            "\u001b[1m9/9\u001b[0m \u001b[32m━━━━━━━━━━━━━━━━━━━━\u001b[0m\u001b[37m\u001b[0m \u001b[1m0s\u001b[0m 10ms/step - loss: 1753.3477 - mae: 27.8282 - val_loss: 2310.6616 - val_mae: 31.2840\n",
            "Epoch 82/100\n",
            "\u001b[1m9/9\u001b[0m \u001b[32m━━━━━━━━━━━━━━━━━━━━\u001b[0m\u001b[37m\u001b[0m \u001b[1m0s\u001b[0m 10ms/step - loss: 2177.0684 - mae: 30.4448 - val_loss: 2326.5771 - val_mae: 31.4244\n",
            "Epoch 83/100\n",
            "\u001b[1m9/9\u001b[0m \u001b[32m━━━━━━━━━━━━━━━━━━━━\u001b[0m\u001b[37m\u001b[0m \u001b[1m0s\u001b[0m 25ms/step - loss: 1217.6342 - mae: 23.4883 - val_loss: 2318.0295 - val_mae: 31.4710\n",
            "Epoch 84/100\n",
            "\u001b[1m9/9\u001b[0m \u001b[32m━━━━━━━━━━━━━━━━━━━━\u001b[0m\u001b[37m\u001b[0m \u001b[1m0s\u001b[0m 12ms/step - loss: 1121.4681 - mae: 22.5495 - val_loss: 2307.5054 - val_mae: 31.5451\n",
            "Epoch 85/100\n",
            "\u001b[1m9/9\u001b[0m \u001b[32m━━━━━━━━━━━━━━━━━━━━\u001b[0m\u001b[37m\u001b[0m \u001b[1m0s\u001b[0m 11ms/step - loss: 1571.2690 - mae: 24.7934 - val_loss: 2276.0078 - val_mae: 31.3648\n",
            "Epoch 86/100\n",
            "\u001b[1m9/9\u001b[0m \u001b[32m━━━━━━━━━━━━━━━━━━━━\u001b[0m\u001b[37m\u001b[0m \u001b[1m0s\u001b[0m 10ms/step - loss: 1454.3895 - mae: 24.1201 - val_loss: 2263.5000 - val_mae: 31.2631\n",
            "Epoch 87/100\n",
            "\u001b[1m9/9\u001b[0m \u001b[32m━━━━━━━━━━━━━━━━━━━━\u001b[0m\u001b[37m\u001b[0m \u001b[1m0s\u001b[0m 14ms/step - loss: 1241.2672 - mae: 24.3742 - val_loss: 2248.2231 - val_mae: 31.1360\n",
            "Epoch 88/100\n",
            "\u001b[1m9/9\u001b[0m \u001b[32m━━━━━━━━━━━━━━━━━━━━\u001b[0m\u001b[37m\u001b[0m \u001b[1m0s\u001b[0m 10ms/step - loss: 1188.0072 - mae: 24.3340 - val_loss: 2221.0579 - val_mae: 31.0092\n",
            "Epoch 89/100\n",
            "\u001b[1m9/9\u001b[0m \u001b[32m━━━━━━━━━━━━━━━━━━━━\u001b[0m\u001b[37m\u001b[0m \u001b[1m0s\u001b[0m 10ms/step - loss: 1265.0546 - mae: 23.0119 - val_loss: 2202.5850 - val_mae: 30.8977\n",
            "Epoch 90/100\n",
            "\u001b[1m9/9\u001b[0m \u001b[32m━━━━━━━━━━━━━━━━━━━━\u001b[0m\u001b[37m\u001b[0m \u001b[1m0s\u001b[0m 10ms/step - loss: 1987.1182 - mae: 27.7518 - val_loss: 2177.1846 - val_mae: 30.8459\n",
            "Epoch 91/100\n",
            "\u001b[1m9/9\u001b[0m \u001b[32m━━━━━━━━━━━━━━━━━━━━\u001b[0m\u001b[37m\u001b[0m \u001b[1m0s\u001b[0m 10ms/step - loss: 1188.1005 - mae: 23.1447 - val_loss: 2164.4060 - val_mae: 30.7339\n",
            "Epoch 92/100\n",
            "\u001b[1m9/9\u001b[0m \u001b[32m━━━━━━━━━━━━━━━━━━━━\u001b[0m\u001b[37m\u001b[0m \u001b[1m0s\u001b[0m 10ms/step - loss: 949.5470 - mae: 21.6592 - val_loss: 2217.1990 - val_mae: 31.2110\n",
            "Epoch 93/100\n",
            "\u001b[1m9/9\u001b[0m \u001b[32m━━━━━━━━━━━━━━━━━━━━\u001b[0m\u001b[37m\u001b[0m \u001b[1m0s\u001b[0m 10ms/step - loss: 1472.6794 - mae: 24.2592 - val_loss: 2247.1748 - val_mae: 31.4264\n",
            "Epoch 94/100\n",
            "\u001b[1m9/9\u001b[0m \u001b[32m━━━━━━━━━━━━━━━━━━━━\u001b[0m\u001b[37m\u001b[0m \u001b[1m0s\u001b[0m 10ms/step - loss: 1461.5641 - mae: 26.9376 - val_loss: 2239.8784 - val_mae: 31.3358\n",
            "Epoch 95/100\n",
            "\u001b[1m9/9\u001b[0m \u001b[32m━━━━━━━━━━━━━━━━━━━━\u001b[0m\u001b[37m\u001b[0m \u001b[1m0s\u001b[0m 10ms/step - loss: 1161.9309 - mae: 24.1226 - val_loss: 2210.8765 - val_mae: 31.1156\n",
            "Epoch 96/100\n",
            "\u001b[1m9/9\u001b[0m \u001b[32m━━━━━━━━━━━━━━━━━━━━\u001b[0m\u001b[37m\u001b[0m \u001b[1m0s\u001b[0m 10ms/step - loss: 1357.9199 - mae: 24.2928 - val_loss: 2202.8535 - val_mae: 31.0004\n",
            "Epoch 97/100\n",
            "\u001b[1m9/9\u001b[0m \u001b[32m━━━━━━━━━━━━━━━━━━━━\u001b[0m\u001b[37m\u001b[0m \u001b[1m0s\u001b[0m 13ms/step - loss: 791.5701 - mae: 19.3703 - val_loss: 2174.0405 - val_mae: 30.8093\n",
            "Epoch 98/100\n",
            "\u001b[1m9/9\u001b[0m \u001b[32m━━━━━━━━━━━━━━━━━━━━\u001b[0m\u001b[37m\u001b[0m \u001b[1m0s\u001b[0m 12ms/step - loss: 830.3248 - mae: 21.0176 - val_loss: 2166.6099 - val_mae: 30.7122\n",
            "Epoch 99/100\n",
            "\u001b[1m9/9\u001b[0m \u001b[32m━━━━━━━━━━━━━━━━━━━━\u001b[0m\u001b[37m\u001b[0m \u001b[1m0s\u001b[0m 10ms/step - loss: 1205.7986 - mae: 24.1247 - val_loss: 2146.9714 - val_mae: 30.5110\n",
            "Epoch 100/100\n",
            "\u001b[1m9/9\u001b[0m \u001b[32m━━━━━━━━━━━━━━━━━━━━\u001b[0m\u001b[37m\u001b[0m \u001b[1m0s\u001b[0m 10ms/step - loss: 1276.8831 - mae: 24.0105 - val_loss: 2124.5208 - val_mae: 30.2237\n"
          ]
        }
      ],
      "source": [
        "# Train the model\n",
        "history = model.fit(X_train, y_train, epochs=100, batch_size=10, validation_split=0.1, verbose=1)"
      ]
    },
    {
      "cell_type": "code",
      "execution_count": 19,
      "metadata": {
        "id": "sKEk7ccy1ZWq",
        "colab": {
          "base_uri": "https://localhost:8080/",
          "height": 529
        },
        "outputId": "a2c49172-a043-41f9-f0f1-881cf7cb6a0e"
      },
      "outputs": [
        {
          "output_type": "stream",
          "name": "stderr",
          "text": [
            "/usr/local/lib/python3.11/dist-packages/IPython/core/pylabtools.py:151: UserWarning: Glyph 128201 (\\N{CHART WITH DOWNWARDS TREND}) missing from font(s) DejaVu Sans.\n",
            "  fig.canvas.print_figure(bytes_io, **kw)\n"
          ]
        },
        {
          "output_type": "display_data",
          "data": {
            "text/plain": [
              "<Figure size 640x480 with 1 Axes>"
            ],
            "image/png": "[encoded data removed]"
          },
          "metadata": {}
        }
      ],
      "source": [
        "# Plot training loss\n",
        "plt.plot(history.history['loss'], label='Training Loss')\n",
        "plt.plot(history.history['val_loss'], label='Validation Loss')\n",
        "plt.xlabel(\"Epochs\")\n",
        "plt.ylabel(\"Loss\")\n",
        "plt.legend()\n",
        "plt.title(\"📉 Model Training History\")\n",
        "plt.show()"
      ]
    },
    {
      "cell_type": "code",
      "execution_count": 20,
      "metadata": {
        "id": "wtIn9Rix1bJg",
        "colab": {
          "base_uri": "https://localhost:8080/"
        },
        "outputId": "33d163fa-7834-4a28-a0f2-f41cf46322b5"
      },
      "outputs": [
        {
          "output_type": "stream",
          "name": "stdout",
          "text": [
            "\n",
            "📉 Final training loss: 1278.5459\n",
            "📈 Final validation loss: 2124.5208\n",
            "\n",
            "Dataset columns for input order:\n",
            "['Gender', 'Age', 'Weight', 'History', 'Meal/Fast', 'Dia/Non', 'Thickness (cm)', 'Non-Invasive']\n"
          ]
        }
      ],
      "source": [
        "# Check training results\n",
        "print(\"\\n📉 Final training loss:\", round(history.history['loss'][-1], 4))\n",
        "print(\"📈 Final validation loss:\", round(history.history['val_loss'][-1], 4))\n",
        "\n",
        "# Sample prediction input\n",
        "print(\"\\nDataset columns for input order:\")\n",
        "print(X.columns.tolist())"
      ]
    },
    {
      "cell_type": "code",
      "execution_count": 21,
      "metadata": {
        "id": "r3jHMSfw0Ktl",
        "colab": {
          "base_uri": "https://localhost:8080/"
        },
        "outputId": "5cfc2bcc-4cca-4ecd-e0d0-1bd57d0dd85e"
      },
      "outputs": [
        {
          "output_type": "stream",
          "name": "stdout",
          "text": [
            "     Gender  Age  Weight  History  Meal/Fast  Dia/Non  Thickness (cm)  \\\n",
            "0         2   21      56        0        2.0      0.0             4.8   \n",
            "1         2   21      58        1        2.0      0.0             4.8   \n",
            "2         1   22      66        0        2.0      0.0             4.8   \n",
            "3         1   21      72        1        2.0      0.0             5.5   \n",
            "4         2   21      43        0        1.0      0.0             4.6   \n",
            "..      ...  ...     ...      ...        ...      ...             ...   \n",
            "148       1   36      77        1        0.0      0.0             5.5   \n",
            "149       1   37      78        0        2.0      0.0             5.6   \n",
            "150       1   38      79        1        1.0      0.0             5.3   \n",
            "151       1   52      62        1        2.5      1.0             5.2   \n",
            "152       2   22      47        1        0.5      0.0             4.3   \n",
            "\n",
            "     Invasive  Non-Invasive  \n",
            "0         124           166  \n",
            "1         126           168  \n",
            "2         107           131  \n",
            "3         114            94  \n",
            "4         124           174  \n",
            "..        ...           ...  \n",
            "148       102            94  \n",
            "149        96            88  \n",
            "150       103            95  \n",
            "151       188            98  \n",
            "152       133           200  \n",
            "\n",
            "[118 rows x 9 columns]\n"
          ]
        }
      ],
      "source": [
        "print(dataset)"
      ]
    },
    {
      "cell_type": "code",
      "execution_count": 22,
      "metadata": {
        "id": "_-4usZpz1r_H",
        "colab": {
          "base_uri": "https://localhost:8080/"
        },
        "outputId": "c3a61859-7641-4d55-9bdd-0ad745cbe2c3"
      },
      "outputs": [
        {
          "output_type": "stream",
          "name": "stdout",
          "text": [
            "Index(['Gender', 'Age', 'Weight', 'History', 'Meal/Fast', 'Dia/Non',\n",
            "       'Thickness (cm)', 'Invasive', 'Non-Invasive'],\n",
            "      dtype='object')\n"
          ]
        }
      ],
      "source": [
        "print(dataset.keys())"
      ]
    },
    {
      "cell_type": "code",
      "execution_count": 23,
      "metadata": {
        "id": "4ecpysA_2yOA",
        "colab": {
          "base_uri": "https://localhost:8080/"
        },
        "outputId": "fd1e77b0-980a-4de2-ce4b-5d2c15bb12a4"
      },
      "outputs": [
        {
          "output_type": "stream",
          "name": "stdout",
          "text": [
            "\u001b[1m4/4\u001b[0m \u001b[32m━━━━━━━━━━━━━━━━━━━━\u001b[0m\u001b[37m\u001b[0m \u001b[1m0s\u001b[0m 18ms/step\n",
            "\n",
            "Model Evaluation on ALL 100 entries:\n",
            "Mean Absolute Error (MAE): 25.16\n",
            "Mean Squared Error (MSE): 1438.53\n",
            "Root Mean Squared Error (RMSE): 37.93\n",
            "R² Score (Accuracy Measure): 0.8543\n"
          ]
        }
      ],
      "source": [
        "# Predict on all 100 entries\n",
        "y_all_pred = model.predict(X_scaled)\n",
        "\n",
        "# Evaluation on all 100 entries\n",
        "from sklearn.metrics import mean_absolute_error, mean_squared_error, r2_score\n",
        "import numpy as np\n",
        "\n",
        "mae = mean_absolute_error(Y, y_all_pred)\n",
        "mse = mean_squared_error(Y, y_all_pred)\n",
        "rmse = np.sqrt(mse)\n",
        "r2 = r2_score(Y, y_all_pred)\n",
        "\n",
        "print(\"\\nModel Evaluation on ALL 100 entries:\")\n",
        "print(f\"Mean Absolute Error (MAE): {mae:.2f}\")\n",
        "print(f\"Mean Squared Error (MSE): {mse:.2f}\")\n",
        "print(f\"Root Mean Squared Error (RMSE): {rmse:.2f}\")\n",
        "print(f\"R² Score (Accuracy Measure): {r2:.4f}\")"
      ]
    },
    {
      "cell_type": "code",
      "source": [
        "!pip install reportlab"
      ],
      "metadata": {
        "id": "1mqgagG93Rhd",
        "colab": {
          "base_uri": "https://localhost:8080/"
        },
        "outputId": "90bfb805-ebcc-4c55-b9c6-e0dd1ae972fc"
      },
      "execution_count": 24,
      "outputs": [
        {
          "output_type": "stream",
          "name": "stdout",
          "text": [
            "Collecting reportlab\n",
            "  Downloading reportlab-4.4.1-py3-none-any.whl.metadata (1.8 kB)\n",
            "Requirement already satisfied: pillow>=9.0.0 in /usr/local/lib/python3.11/dist-packages (from reportlab) (11.2.1)\n",
            "Requirement already satisfied: chardet in /usr/local/lib/python3.11/dist-packages (from reportlab) (5.2.0)\n",
            "Downloading reportlab-4.4.1-py3-none-any.whl (2.0 MB)\n",
            "\u001b[2K   \u001b[90m━━━━━━━━━━━━━━━━━━━━━━━━━━━━━━━━━━━━━━━━\u001b[0m \u001b[32m2.0/2.0 MB\u001b[0m \u001b[31m30.2 MB/s\u001b[0m eta \u001b[36m0:00:00\u001b[0m\n",
            "\u001b[?25hInstalling collected packages: reportlab\n",
            "Successfully installed reportlab-4.4.1\n"
          ]
        }
      ]
    },
    {
      "cell_type": "code",
      "source": [
        "from reportlab.lib.pagesizes import A4\n",
        "from reportlab.pdfgen import canvas\n",
        "from datetime import datetime"
      ],
      "metadata": {
        "id": "8t81z2ff3eaZ"
      },
      "execution_count": 25,
      "outputs": []
    },
    {
      "cell_type": "code",
      "execution_count": 31,
      "metadata": {
        "id": "tWZT-5PYhzYp",
        "colab": {
          "base_uri": "https://localhost:8080/"
        },
        "outputId": "a89e3b70-6a59-46d9-faf2-902f564c78de"
      },
      "outputs": [
        {
          "output_type": "stream",
          "name": "stdout",
          "text": [
            "Enter IR sensor voltage: 1028\n",
            "Calculated value from IR voltage: 171.3333\n",
            "\n",
            "📥 Enter New Patient Information (Use number codes as shown):\n",
            "Gender → Male: 1, Female: 2\n",
            "Gender (1/2): 1\n",
            "Age (in years): 49\n",
            "Weight (in kg): 110\n",
            "History → Yes: 1, No: 0\n",
            "Any history of diabetes? (1/0): 1\n",
            "Meal/Fast → Fasting: 0, Two hours after lunch: 1, Random: 2, or custom (e.g. 1.5, 2.5)\n",
            "Meal status (e.g. 0/1/2 or 1.5): 4\n",
            "Diabetic Status → Diabetic: 1, Non-Diabetic: 0\n",
            "Diabetic status (1/0): 0\n",
            "Finger thickness (in cm): 5.1\n",
            "\u001b[1m1/1\u001b[0m \u001b[32m━━━━━━━━━━━━━━━━━━━━\u001b[0m\u001b[37m\u001b[0m \u001b[1m0s\u001b[0m 39ms/step\n",
            "\n",
            "========================================\n",
            "✅ Predicted Invasive Glucose Level:\n",
            "➡️  177.11 mg/dL\n",
            "========================================\n",
            "\n"
          ]
        },
        {
          "output_type": "stream",
          "name": "stderr",
          "text": [
            "/usr/local/lib/python3.11/dist-packages/sklearn/utils/validation.py:2739: UserWarning: X does not have valid feature names, but StandardScaler was fitted with feature names\n",
            "  warnings.warn(\n"
          ]
        }
      ],
      "source": [
        "# IR Voltage to Non-Invasive Value\n",
        "ir_voltage = float(input(\"Enter IR sensor voltage: \"))\n",
        "non_invasive = ir_voltage / 6\n",
        "print(f\"Calculated value from IR voltage: {non_invasive:.4f}\")\n",
        "\n",
        "print(\"\\n📥 Enter New Patient Information (Use number codes as shown):\")\n",
        "\n",
        "print(\"Gender → Male: 1, Female: 2\")\n",
        "gender = int(input(\"Gender (1/2): \"))\n",
        "\n",
        "age = int(input(\"Age (in years): \"))\n",
        "weight = float(input(\"Weight (in kg): \"))\n",
        "\n",
        "print(\"History → Yes: 1, No: 0\")\n",
        "history = int(input(\"Any history of diabetes? (1/0): \"))\n",
        "\n",
        "print(\"Meal/Fast → Fasting: 0, Two hours after lunch: 1, Random: 2, or custom (e.g. 1.5, 2.5)\")\n",
        "meal_status = float(input(\"Meal status (e.g. 0/1/2 or 1.5): \"))\n",
        "\n",
        "print(\"Diabetic Status → Diabetic: 1, Non-Diabetic: 0\")\n",
        "diabetic_status = int(input(\"Diabetic status (1/0): \"))\n",
        "\n",
        "thickness = float(input(\"Finger thickness (in cm): \"))\n",
        "\n",
        "# Final input\n",
        "user_input = [[gender, age, weight, history, meal_status, diabetic_status, thickness, non_invasive]]\n",
        "\n",
        "# Scale and predict\n",
        "user_scaled = scaler.transform(user_input)\n",
        "predicted_glucose = model.predict(user_scaled)\n",
        "\n",
        "# Show result\n",
        "print(\"\\n\" + \"=\"*40)\n",
        "print(\"✅ Predicted Invasive Glucose Level:\")\n",
        "print(f\"➡️  {predicted_glucose[0][0]:.2f} mg/dL\")\n",
        "print(\"=\"*40 + \"\\n\")"
      ]
    },
    {
      "cell_type": "code",
      "source": [
        "# Replace this with user input if needed\n",
        "patient_name = input(\"Enter patient name: \")\n",
        "\n",
        "# Path for PDF\n",
        "pdf_filename = f\"{patient_name.replace(' ', '_')}_Glucose_Report.pdf\"\n",
        "\n",
        "# Create canvas\n",
        "c = canvas.Canvas(pdf_filename, pagesize=A4)\n",
        "width, height = A4\n",
        "\n",
        "# Header Section\n",
        "c.setFont(\"Helvetica-Bold\", 18)\n",
        "c.drawCentredString(width / 2, height - 50, \"University of Engineering and Technology, Lahore\")\n",
        "\n",
        "c.setFont(\"Helvetica-Bold\", 14)\n",
        "c.drawCentredString(width / 2, height - 80, \"Department of Computer Engineering\")\n",
        "\n",
        "# Extra space before title\n",
        "c.setFont(\"Helvetica-Bold\", 16)\n",
        "c.drawCentredString(width / 2, height - 130, \"GlucoSense: Smart Non-Invasive Glucose Report\")\n",
        "\n",
        "# Date and Time\n",
        "c.setFont(\"Helvetica\", 10)\n",
        "c.drawRightString(width - 40, height - 150, datetime.now().strftime(\"%Y-%m-%d %H:%M:%S\"))\n",
        "\n",
        "# Patient Information Section\n",
        "c.setFont(\"Helvetica-Bold\", 12)\n",
        "c.drawString(40, height - 180, \"📌 Patient Information:\")\n",
        "c.setFont(\"Helvetica\", 12)\n",
        "\n",
        "y = height - 200\n",
        "c.drawString(60, y, f\"Name: {patient_name}\")\n",
        "y -= 20\n",
        "c.drawString(60, y, f\"Gender (1 = Male, 2 = Female): {gender}\")\n",
        "y -= 20\n",
        "c.drawString(60, y, f\"Age: {age} years\")\n",
        "y -= 20\n",
        "c.drawString(60, y, f\"Weight: {weight} kg\")\n",
        "y -= 20\n",
        "c.drawString(60, y, f\"History of Diabetes (1 = Yes, 0 = No): {history}\")\n",
        "y -= 20\n",
        "c.drawString(60, y, f\"Meal Status (0 = Fasting, 1 = one hr after lunch, etc.): {meal_status}\")\n",
        "y -= 20\n",
        "c.drawString(60, y, f\"Diabetic Status (1 = Diabetic, 0 = Non-Diabetic): {diabetic_status}\")\n",
        "y -= 20\n",
        "c.drawString(60, y, f\"Finger Thickness: {thickness} cm\")\n",
        "\n",
        "# Prediction Section\n",
        "y -= 40\n",
        "c.setFont(\"Helvetica-Bold\", 12)\n",
        "c.drawString(40, y, \"📊 Predicted Glucose Level:\")\n",
        "c.setFont(\"Helvetica\", 12)\n",
        "y -= 20\n",
        "c.drawString(60, y, f\"➡️  {predicted_glucose[0][0]:.2f} mg/dL\")\n",
        "\n",
        "# Footer\n",
        "c.setFont(\"Helvetica-Oblique\", 10)\n",
        "c.drawCentredString(width / 2, 30, \"This report is generated by a trained Neural Network Model\")\n",
        "c.drawCentredString(width / 2, 15, \"Developed at UET Lahore, Dept. of Computer Engineering\")\n",
        "\n",
        "# Save PDF\n",
        "c.save()\n",
        "\n",
        "print(f\"📄 PDF report generated: {pdf_filename}\")"
      ],
      "metadata": {
        "id": "2ajVJ03fIzwQ",
        "colab": {
          "base_uri": "https://localhost:8080/"
        },
        "outputId": "1726a0bf-c118-46d1-e486-ed9235710f3c"
      },
      "execution_count": 30,
      "outputs": [
        {
          "output_type": "stream",
          "name": "stdout",
          "text": [
            "Enter patient name: Dr. Ali Hammad\n",
            "📄 PDF report generated: Dr._Ali_Hammad_Glucose_Report.pdf\n"
          ]
        }
      ]
    }
  ],
  "metadata": {
    "colab": {
      "provenance": []
    },
    "kernelspec": {
      "display_name": "Python 3",
      "name": "python3"
    },
    "language_info": {
      "name": "python"
    }
  },
  "nbformat": 4,
  "nbformat_minor": 0
}